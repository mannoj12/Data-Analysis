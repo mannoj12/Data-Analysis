{
 "cells": [
  {
   "cell_type": "code",
   "execution_count": 7,
   "metadata": {},
   "outputs": [
    {
     "name": "stdout",
     "output_type": "stream",
     "text": [
      "https://austin.craigslist.org/search/apa?s=/apa/6140484903.html\n",
      "https://austin.craigslist.org/search/apa?s=/apa/6142039894.html\n",
      "https://austin.craigslist.org/search/apa?s=/apa/6142040272.html\n",
      "https://austin.craigslist.org/search/apa?s=/apa/6142043985.html\n",
      "https://austin.craigslist.org/search/apa?s=/apa/6142044353.html\n",
      "https://austin.craigslist.org/search/apa?s=/apa/6142044635.html\n",
      "https://austin.craigslist.org/search/apa?s=/apa/6138482739.html\n",
      "https://austin.craigslist.org/search/apa?s=/apa/6137741661.html\n",
      "https://austin.craigslist.org/search/apa?s=/apa/6144645939.html\n",
      "https://austin.craigslist.org/search/apa?s=/apa/6137740195.html\n",
      "https://austin.craigslist.org/search/apa?s=/apa/6137703395.html\n",
      "https://austin.craigslist.org/search/apa?s=/apa/6137702730.html\n",
      "https://austin.craigslist.org/search/apa?s=/apa/6127444950.html\n",
      "https://austin.craigslist.org/search/apa?s=/apa/6137701413.html\n",
      "https://austin.craigslist.org/search/apa?s=/apa/6137700527.html\n",
      "https://austin.craigslist.org/search/apa?s=/apa/6142057562.html\n",
      "https://austin.craigslist.org/search/apa?s=/apa/6142057744.html\n",
      "https://austin.craigslist.org/search/apa?s=/apa/6140455350.html\n",
      "https://austin.craigslist.org/search/apa?s=/apa/6140268360.html\n",
      "https://austin.craigslist.org/search/apa?s=/apa/6140249764.html\n",
      "https://austin.craigslist.org/search/apa?s=/apa/6140203166.html\n",
      "https://austin.craigslist.org/search/apa?s=/apa/6136157246.html\n",
      "https://austin.craigslist.org/search/apa?s=/apa/6136609175.html\n",
      "https://austin.craigslist.org/search/apa?s=/apa/6136627631.html\n",
      "https://austin.craigslist.org/search/apa?s=/apa/6140154071.html\n",
      "https://austin.craigslist.org/search/apa?s=/apa/6132833266.html\n",
      "https://austin.craigslist.org/search/apa?s=/apa/6140153585.html\n",
      "https://austin.craigslist.org/search/apa?s=/apa/6136618412.html\n",
      "https://austin.craigslist.org/search/apa?s=/apa/6126607552.html\n",
      "https://austin.craigslist.org/search/apa?s=/apa/6140513668.html\n",
      "https://austin.craigslist.org/search/apa?s=/apa/6140572239.html\n",
      "https://austin.craigslist.org/search/apa?s=/apa/6127499432.html\n",
      "https://austin.craigslist.org/search/apa?s=/apa/6120741480.html\n",
      "https://austin.craigslist.org/search/apa?s=/apa/6120741980.html\n",
      "https://austin.craigslist.org/search/apa?s=/apa/6120756939.html\n",
      "https://austin.craigslist.org/search/apa?s=/apa/6121212636.html\n",
      "https://austin.craigslist.org/search/apa?s=/apa/6121264576.html\n",
      "https://austin.craigslist.org/search/apa?s=/apa/6162521443.html\n",
      "https://austin.craigslist.org/search/apa?s=/apa/6162480654.html\n",
      "https://austin.craigslist.org/search/apa?s=/apa/6158811774.html\n",
      "https://austin.craigslist.org/search/apa?s=/apa/6162504829.html\n",
      "https://austin.craigslist.org/search/apa?s=/apa/6132949564.html\n",
      "https://austin.craigslist.org/search/apa?s=/apa/6132975937.html\n",
      "https://austin.craigslist.org/search/apa?s=/apa/6133608804.html\n",
      "https://austin.craigslist.org/search/apa?s=/apa/6133599215.html\n",
      "https://austin.craigslist.org/search/apa?s=/apa/6153959534.html\n",
      "https://austin.craigslist.org/search/apa?s=/apa/6144817280.html\n",
      "https://austin.craigslist.org/search/apa?s=/apa/6138328177.html\n",
      "https://austin.craigslist.org/search/apa?s=/apa/6144821655.html\n",
      "https://austin.craigslist.org/search/apa?s=/apa/6158586938.html\n",
      "https://austin.craigslist.org/search/apa?s=/apa/6157364818.html\n",
      "https://austin.craigslist.org/search/apa?s=/apa/6155499803.html\n",
      "https://austin.craigslist.org/search/apa?s=/apa/6162497124.html\n",
      "https://austin.craigslist.org/search/apa?s=/apa/6157385230.html\n",
      "https://austin.craigslist.org/search/apa?s=/apa/6158585837.html\n",
      "https://austin.craigslist.org/search/apa?s=/apa/6162403033.html\n",
      "https://austin.craigslist.org/search/apa?s=/apa/6158586406.html\n",
      "https://austin.craigslist.org/search/apa?s=/apa/6155226041.html\n",
      "https://austin.craigslist.org/search/apa?s=/apa/6155225506.html\n",
      "https://austin.craigslist.org/search/apa?s=/apa/6157401490.html\n",
      "https://austin.craigslist.org/search/apa?s=/apa/6157451140.html\n",
      "https://austin.craigslist.org/search/apa?s=/apa/6121601168.html\n",
      "https://austin.craigslist.org/search/apa?s=/apa/6147524344.html\n",
      "https://austin.craigslist.org/search/apa?s=/apa/6162485568.html\n",
      "https://austin.craigslist.org/search/apa?s=/apa/6162492249.html\n",
      "https://austin.craigslist.org/search/apa?s=/apa/6158953336.html\n",
      "https://austin.craigslist.org/search/apa?s=/apa/6144837859.html\n",
      "https://austin.craigslist.org/search/apa?s=/apa/6162476142.html\n",
      "https://austin.craigslist.org/search/apa?s=/apa/6162477566.html\n",
      "https://austin.craigslist.org/search/apa?s=/apa/6162468384.html\n",
      "https://austin.craigslist.org/search/apa?s=/apa/6162481257.html\n",
      "https://austin.craigslist.org/search/apa?s=/apa/6162473764.html\n",
      "https://austin.craigslist.org/search/apa?s=/apa/6162473450.html\n",
      "https://austin.craigslist.org/search/apa?s=/apa/6162480034.html\n",
      "https://austin.craigslist.org/search/apa?s=/apa/6162476743.html\n",
      "https://austin.craigslist.org/search/apa?s=/apa/6152174311.html\n",
      "https://austin.craigslist.org/search/apa?s=/apa/6152177929.html\n",
      "https://austin.craigslist.org/search/apa?s=/apa/6152175600.html\n",
      "https://austin.craigslist.org/search/apa?s=/apa/6162475208.html\n",
      "https://austin.craigslist.org/search/apa?s=/apa/6162476805.html\n",
      "https://austin.craigslist.org/search/apa?s=/apa/6155643718.html\n",
      "https://austin.craigslist.org/search/apa?s=/apa/6121965398.html\n",
      "https://austin.craigslist.org/search/apa?s=/apa/6133046983.html\n",
      "https://austin.craigslist.org/search/apa?s=/apa/6133047367.html\n",
      "https://austin.craigslist.org/search/apa?s=/apa/6133048245.html\n",
      "https://austin.craigslist.org/search/apa?s=/apa/6133044011.html\n",
      "https://austin.craigslist.org/search/apa?s=/apa/6133084256.html\n",
      "https://austin.craigslist.org/search/apa?s=/apa/6133044398.html\n",
      "https://austin.craigslist.org/search/apa?s=/apa/6133088665.html\n",
      "https://austin.craigslist.org/search/apa?s=/apa/6133089657.html\n",
      "https://austin.craigslist.org/search/apa?s=/apa/6133090106.html\n",
      "https://austin.craigslist.org/search/apa?s=/apa/6152132063.html\n",
      "https://austin.craigslist.org/search/apa?s=/apa/6133090549.html\n",
      "https://austin.craigslist.org/search/apa?s=/apa/6133343489.html\n",
      "https://austin.craigslist.org/search/apa?s=/apa/6133089183.html\n",
      "https://austin.craigslist.org/search/apa?s=/apa/6133343923.html\n",
      "https://austin.craigslist.org/search/apa?s=/apa/6133346323.html\n",
      "https://austin.craigslist.org/search/apa?s=/apa/6133345711.html\n",
      "https://austin.craigslist.org/search/apa?s=/apa/6133342913.html\n",
      "https://austin.craigslist.org/search/apa?s=/apa/6133351294.html\n",
      "https://austin.craigslist.org/search/apa?s=/apa/6133352181.html\n",
      "https://austin.craigslist.org/search/apa?s=/apa/6133352533.html\n",
      "https://austin.craigslist.org/search/apa?s=/apa/6133353119.html\n",
      "https://austin.craigslist.org/search/apa?s=/apa/6144559990.html\n",
      "https://austin.craigslist.org/search/apa?s=/apa/6133351799.html\n",
      "https://austin.craigslist.org/search/apa?s=/apa/6133394158.html\n",
      "https://austin.craigslist.org/search/apa?s=/apa/6133394992.html\n",
      "https://austin.craigslist.org/search/apa?s=/apa/6133394508.html\n",
      "https://austin.craigslist.org/search/apa?s=/apa/6133415276.html\n",
      "https://austin.craigslist.org/search/apa?s=/apa/6133395436.html\n",
      "https://austin.craigslist.org/search/apa?s=/apa/6133395977.html\n",
      "https://austin.craigslist.org/search/apa?s=/apa/6133414827.html\n",
      "https://austin.craigslist.org/search/apa?s=/apa/6133421977.html\n",
      "https://austin.craigslist.org/search/apa?s=/apa/6133416453.html\n",
      "https://austin.craigslist.org/search/apa?s=/apa/6133415816.html\n",
      "https://austin.craigslist.org/search/apa?s=/apa/6133509067.html\n",
      "https://austin.craigslist.org/search/apa?s=/apa/6133416884.html\n",
      "https://austin.craigslist.org/search/apa?s=/apa/6133512356.html\n",
      "https://austin.craigslist.org/search/apa?s=/apa/6133513169.html\n",
      "https://austin.craigslist.org/search/apa?s=/apa/6133509719.html\n"
     ]
    }
   ],
   "source": [
    "import requests\n",
    "from bs4 import BeautifulSoup\n",
    "\n",
    "\n",
    "def craigslist_spider(max_pages):\n",
    "    page = 10\n",
    "    while page <= max_pages:\n",
    "          url = 'https://austin.craigslist.org/search/apa?s=' + str(page)\n",
    "          source_code = requests.get(url)\n",
    "          plain_text = source_code.text\n",
    "          soup = BeautifulSoup(plain_text,\"lxml\")\n",
    "          for link in soup.findAll('a',{'class':'result-title hdrlnk'}):\n",
    "              href = 'https://austin.craigslist.org/search/apa?s=' + link.get('href')\n",
    "              print(href)\n",
    "                \n",
    "          page += 10\n",
    "craigslist_spider(10)       \n",
    "            "
   ]
  },
  {
   "cell_type": "code",
   "execution_count": null,
   "metadata": {
    "collapsed": true
   },
   "outputs": [],
   "source": []
  },
  {
   "cell_type": "code",
   "execution_count": null,
   "metadata": {
    "collapsed": true
   },
   "outputs": [],
   "source": []
  },
  {
   "cell_type": "code",
   "execution_count": null,
   "metadata": {
    "collapsed": true
   },
   "outputs": [],
   "source": []
  },
  {
   "cell_type": "code",
   "execution_count": null,
   "metadata": {
    "collapsed": true
   },
   "outputs": [],
   "source": []
  },
  {
   "cell_type": "code",
   "execution_count": null,
   "metadata": {
    "collapsed": true
   },
   "outputs": [],
   "source": []
  },
  {
   "cell_type": "code",
   "execution_count": null,
   "metadata": {
    "collapsed": true
   },
   "outputs": [],
   "source": []
  },
  {
   "cell_type": "code",
   "execution_count": null,
   "metadata": {
    "collapsed": true
   },
   "outputs": [],
   "source": []
  },
  {
   "cell_type": "code",
   "execution_count": null,
   "metadata": {
    "collapsed": true
   },
   "outputs": [],
   "source": []
  },
  {
   "cell_type": "code",
   "execution_count": null,
   "metadata": {
    "collapsed": true
   },
   "outputs": [],
   "source": []
  },
  {
   "cell_type": "code",
   "execution_count": null,
   "metadata": {
    "collapsed": true
   },
   "outputs": [],
   "source": []
  },
  {
   "cell_type": "code",
   "execution_count": null,
   "metadata": {
    "collapsed": true
   },
   "outputs": [],
   "source": []
  },
  {
   "cell_type": "code",
   "execution_count": null,
   "metadata": {
    "collapsed": true
   },
   "outputs": [],
   "source": []
  },
  {
   "cell_type": "code",
   "execution_count": null,
   "metadata": {
    "collapsed": true
   },
   "outputs": [],
   "source": []
  },
  {
   "cell_type": "code",
   "execution_count": null,
   "metadata": {
    "collapsed": true
   },
   "outputs": [],
   "source": []
  },
  {
   "cell_type": "code",
   "execution_count": null,
   "metadata": {
    "collapsed": true
   },
   "outputs": [],
   "source": []
  },
  {
   "cell_type": "code",
   "execution_count": null,
   "metadata": {
    "collapsed": true
   },
   "outputs": [],
   "source": []
  }
 ],
 "metadata": {
  "kernelspec": {
   "display_name": "Python 2",
   "language": "python",
   "name": "python2"
  },
  "language_info": {
   "codemirror_mode": {
    "name": "ipython",
    "version": 2
   },
   "file_extension": ".py",
   "mimetype": "text/x-python",
   "name": "python",
   "nbconvert_exporter": "python",
   "pygments_lexer": "ipython2",
   "version": "2.7.13"
  }
 },
 "nbformat": 4,
 "nbformat_minor": 2
}
